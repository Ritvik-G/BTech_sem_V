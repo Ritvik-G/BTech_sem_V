{
  "nbformat": 4,
  "nbformat_minor": 0,
  "metadata": {
    "colab": {
      "name": "8Puzzle",
      "provenance": []
    },
    "kernelspec": {
      "name": "python3",
      "display_name": "Python 3"
    },
    "language_info": {
      "name": "python"
    }
  },
  "cells": [
    {
      "cell_type": "markdown",
      "source": [
        "# **8 Puzzle Problem**"
      ],
      "metadata": {
        "id": "21JZCJ7knLkD"
      }
    },
    {
      "cell_type": "markdown",
      "source": [
        "## **Logic**"
      ],
      "metadata": {
        "id": "OJBSvOu3FOLV"
      }
    },
    {
      "cell_type": "markdown",
      "source": [
        "Let us assume a cost function that helps us to explore nodes that prevents searching through nodes that don't have an answer i.e. search similar to BFS with a twist of backtracking technique.\n",
        "\n",
        "Assumption is that the tile with 0 is the empty tile and can move with 1 unit cost. \n",
        "\n",
        "Cost function is defined as : c(x) = f(x) + h(x)\n",
        "where: \n",
        "*   f(x) is length of path from root to x i.e. no. of moves so far\n",
        "*   h(x) is number of non-blank tiles not in their goal position\n",
        "\n",
        "There are atleast h(x) moves to change x to goal state and if we select only those modes which have min(c(x)), then goal state is reached.\n"
      ],
      "metadata": {
        "id": "ZSt7fUiAFoWS"
      }
    },
    {
      "cell_type": "markdown",
      "source": [
        "## **Code**"
      ],
      "metadata": {
        "id": "zhpb--n4nQw3"
      }
    },
    {
      "cell_type": "code",
      "source": [
        "import copy\n",
        "from heapq import heappush, heappop\n",
        "\n",
        "# 3 Dimensional array\n",
        "n = 3\n",
        "\n",
        "# Movements\n",
        "row = [ 1, 0, -1, 0 ]\n",
        "col = [ 0, -1, 0, 1 ]\n",
        "\n",
        "# Priority Queue and it's functions\n",
        "class priorityQueue:\n",
        "\tdef __init__(self):\n",
        "\t\tself.heap = []\n",
        "\tdef push(self, k):\n",
        "\t\theappush(self.heap, k)\n",
        "\tdef pop(self):\n",
        "\t\treturn heappop(self.heap)\n",
        "\tdef empty(self):\n",
        "\t\tif not self.heap:\n",
        "\t\t\treturn True\n",
        "\t\telse:\n",
        "\t\t\treturn False\n",
        "\n",
        "# Node structure\n",
        "class node:\n",
        "\tdef __init__(self, parent, mat, empty_tile_pos, cost, level):\n",
        "\t\tself.parent = parent\n",
        "\t\tself.mat = mat\n",
        "\t\tself.empty_tile_pos = empty_tile_pos\n",
        "\t\tself.cost = cost\n",
        "\t\tself.level = level\n",
        "\tdef __lt__(self, nxt):\n",
        "\t\treturn self.cost < nxt.cost\n",
        "\n",
        "# Misplaced tiles calculation\n",
        "def calculateCost(mat, final) -> int:\n",
        "\tcount = 0\n",
        "\tfor i in range(n):\n",
        "\t\tfor j in range(n):\n",
        "\t\t\tif ((mat[i][j]) and\n",
        "\t\t\t\t(mat[i][j] != final[i][j])):\n",
        "\t\t\t\tcount += 1\n",
        "\t\t\t\t\n",
        "\treturn count\n",
        "\n",
        "# Node creation\n",
        "def newNode(mat, empty_tile_pos, new_empty_tile_pos,level, parent, final) -> node:\n",
        "\tnew_mat = copy.deepcopy(mat)\n",
        "\tx1 = empty_tile_pos[0]\n",
        "\ty1 = empty_tile_pos[1]\n",
        "\tx2 = new_empty_tile_pos[0]\n",
        "\ty2 = new_empty_tile_pos[1]\n",
        "\tnew_mat[x1][y1], new_mat[x2][y2] = new_mat[x2][y2], new_mat[x1][y1]\n",
        "\tcost = calculateCost(new_mat, final)\n",
        "\n",
        "\tnew_node = node(parent, new_mat, new_empty_tile_pos,\n",
        "\t\t\t\t\tcost, level)\n",
        "\treturn new_node\n",
        "\n",
        "# Print matrix\n",
        "def printMatrix(mat):\n",
        "\tfor i in range(n):\n",
        "\t\tfor j in range(n):\n",
        "\t\t\tprint(\"%d \" % (mat[i][j]), end = \" \")\n",
        "\t\tprint()\n",
        "\n",
        "# Valid matrix check\n",
        "def isSafe(x, y):\n",
        "\treturn x >= 0 and x < n and y >= 0 and y < n\n",
        "\n",
        "# Path printer\n",
        "def printPath(root):\n",
        "\tif root == None:\n",
        "\t\treturn\n",
        "\tprintPath(root.parent)\n",
        "\tprintMatrix(root.mat)\n",
        "\tprint()\n",
        "\n",
        "# Main solving function\n",
        "def solve(initial, empty_tile_pos, final):\n",
        "\tpq = priorityQueue() # Priority queue to store list.\n",
        "\tcost = calculateCost(initial, final)\n",
        "\troot = node(None, initial, empty_tile_pos, cost, 0)\n",
        "\tpq.push(root)\n",
        "\n",
        "\t# Most efficient node\n",
        "\twhile not pq.empty():\n",
        "\t\tminimum = pq.pop()\n",
        "\t\tif minimum.cost == 0:\n",
        "\t\t\tprintPath(minimum)\n",
        "\t\t\treturn\n",
        "\n",
        "\t\t# Children Generation\n",
        "\t\tfor i in range(4):\n",
        "\t\t\tnew_tile_pos = [minimum.empty_tile_pos[0] + row[i], minimum.empty_tile_pos[1] + col[i], ]\n",
        "\t\t\tif isSafe(new_tile_pos[0], new_tile_pos[1]):\n",
        "\t\t\t\tchild = newNode(minimum.mat, minimum.empty_tile_pos, new_tile_pos, minimum.level + 1, minimum, final) # Child Node\n",
        "\t\t\t\tpq.push(child)\n",
        "\n",
        "\n",
        "i = [ [ 1, 2, 3 ], [ 5, 0, 6 ],[7, 8, 4 ] ]\n",
        "f = [ [ 1, 2, 3 ], [ 0, 8, 6 ],[ 5, 7, 4 ] ]\n",
        "\n",
        "p = [ 1, 1 ] \n",
        "\n",
        "# Function call to solve the puzzle\n",
        "solve(i, p, f) # Function Call"
      ],
      "metadata": {
        "colab": {
          "base_uri": "https://localhost:8080/"
        },
        "id": "o1raQG3JDVYG",
        "outputId": "69a8fabb-bc74-438d-b4d8-67a0640bd2f7"
      },
      "execution_count": 3,
      "outputs": [
        {
          "output_type": "stream",
          "name": "stdout",
          "text": [
            "1  2  3  \n",
            "5  0  6  \n",
            "7  8  4  \n",
            "\n",
            "1  2  3  \n",
            "5  8  6  \n",
            "7  0  4  \n",
            "\n",
            "1  2  3  \n",
            "5  8  6  \n",
            "0  7  4  \n",
            "\n",
            "1  2  3  \n",
            "0  8  6  \n",
            "5  7  4  \n",
            "\n"
          ]
        }
      ]
    }
  ]
}